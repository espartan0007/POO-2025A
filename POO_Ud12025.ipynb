{
  "nbformat": 4,
  "nbformat_minor": 0,
  "metadata": {
    "colab": {
      "provenance": [],
      "authorship_tag": "ABX9TyNExiUJXe7bewP6LyMaoeqD",
      "include_colab_link": true
    },
    "kernelspec": {
      "name": "python3",
      "display_name": "Python 3"
    },
    "language_info": {
      "name": "python"
    }
  },
  "cells": [
    {
      "cell_type": "markdown",
      "metadata": {
        "id": "view-in-github",
        "colab_type": "text"
      },
      "source": [
        "<a href=\"https://colab.research.google.com/github/espartan0007/POO-2025A/blob/main/POO_Ud12025.ipynb\" target=\"_parent\"><img src=\"https://colab.research.google.com/assets/colab-badge.svg\" alt=\"Open In Colab\"/></a>"
      ]
    },
    {
      "cell_type": "code",
      "source": [
        "# Todo lo que creas en Python es un objeto. Mira esto:\n",
        "\n",
        "name = \"Danny\"\n",
        "age = 29\n",
        "\n",
        "print(type(name))  # <class 'str'>\n",
        "print(type(age))  # <class 'int'>\n",
        "\n",
        "# Los objetos se crean a partir de clases. Las clases son los planos para los objetos, lo que significa que describen cómo debería ser un objeto. Entonces, arriba, observemos la variable `name`:\n",
        "\n",
        "# - La variable `name` está asignada a un objeto de tipo cadena (string)\n",
        "# - La clase `str` define cómo luce cada objeto de cadena\n",
        "\n",
        "# Estas clases son ejemplos de algunas de las clases \"integradas\" en Python, que podemos usar para crear estructuras de datos como cadenas e enteros. Pero también podemos crear nuestras propias clases y luego crear objetos (también conocidos como instancias) a partir de esas clases:\n",
        "\n"
      ],
      "metadata": {
        "colab": {
          "base_uri": "https://localhost:8080/"
        },
        "id": "6fXqT7N7ZhSx",
        "outputId": "636f238c-eb0f-4f59-a558-4d0283224da6"
      },
      "execution_count": null,
      "outputs": [
        {
          "output_type": "stream",
          "name": "stdout",
          "text": [
            "<class 'str'>\n",
            "<class 'int'>\n"
          ]
        }
      ]
    },
    {
      "cell_type": "code",
      "source": [
        "# La clase Dog describe qué información (\"atributos\" o \"datos\") y comportamientos (\"métodos\") debería tener cada perro.\n",
        "# Primero, creemos una clase Dog muy simple que no tiene datos y solo un comportamiento\n",
        "class Dog:\n",
        "    def bark(self):\n",
        "        print(\"Whoof whoof\")\n",
        "\n",
        "# Define una variable llamada `dog` y asígnala a una instancia de (o \"un objeto creado a partir de\") la clase Dog.\n",
        "dog1 = Dog()\n",
        "dog1.bark()  # Whoof whoof"
      ],
      "metadata": {
        "colab": {
          "base_uri": "https://localhost:8080/"
        },
        "id": "Tby3tSMssu6K",
        "outputId": "f929e4cf-80a7-4e39-fea2-e232d6cc0c15"
      },
      "execution_count": null,
      "outputs": [
        {
          "output_type": "stream",
          "name": "stdout",
          "text": [
            "Whoof whoof\n"
          ]
        }
      ]
    },
    {
      "cell_type": "code",
      "source": [
        "# Ahora agreguemos algunos datos a la clase Dog, para que cada objeto perro (o \"instancia\") pueda tener un nombre y una raza:\n",
        "class Dog2:\n",
        "\n",
        "    def __init__(self, first_name, last_name, breed):\n",
        "        self.first_name = first_name\n",
        "        self.last_name = last_name\n",
        "        self.breed = breed\n",
        "\n",
        "    def bark(self):\n",
        "        print(\"Whoof whoof\")\n",
        "\n",
        "    def get_full_name(self):\n",
        "        return self.first_name + \" \" + self.last_name\n",
        "# __init__ es un método especial que se ejecuta solo una vez cuando se instancia (crea) un objeto. Podemos configurar los datos de nuestro objeto aquí\n",
        "scottyDog = Dog2(\"Angus\", \"Biggsby\", \"Scottish Terrier\")\n",
        "scottyDog.bark()\n",
        "print(scottyDog.get_full_name())\n",
        "print(scottyDog.breed)\n",
        "\n",
        "houndDog = Dog2(\"Elvis\", \"Presley\", \"Basset Hound\")\n",
        "houndDog.bark()\n",
        "print(houndDog.get_full_name())\n",
        "print(houndDog.breed)"
      ],
      "metadata": {
        "id": "8NUurivvfd9Z",
        "colab": {
          "base_uri": "https://localhost:8080/"
        },
        "outputId": "4af7ff52-8f48-424d-f4ae-7aae963aa950"
      },
      "execution_count": null,
      "outputs": [
        {
          "output_type": "stream",
          "name": "stdout",
          "text": [
            "Whoof whoof\n",
            "Angus Biggsby\n",
            "Scottish Terrier\n",
            "Whoof whoof\n",
            "Elvis Presley\n",
            "Basset Hound\n"
          ]
        }
      ]
    },
    {
      "cell_type": "code",
      "source": [
        "# Combinando objetos\n",
        "class Owner:\n",
        "    def __init__(self, name, address, contact_number):\n",
        "        self.name = name\n",
        "        self.address = address\n",
        "        self.phone_number = contact_number\n",
        "\n",
        "class Dog3:\n",
        "    # __init__ es un método especial que se ejecuta solo una vez cuando se instancia (crea) un objeto. Podemos configurar los datos de nuestro objeto aquí\n",
        "    def __init__(self, first_name, last_name, breed, owner):\n",
        "        self.first_name = first_name\n",
        "        self.last_name = last_name\n",
        "        self.breed = breed\n",
        "        self.owner = owner\n",
        "\n",
        "    def bark(self):\n",
        "        print(\"Whoof whoof\")\n",
        "\n",
        "    def get_full_name(self):\n",
        "        return self.first_name + \" \" + self.last_name\n",
        "\n",
        "owner = Owner(\"Danny\", \"122 Springfield Way, Uk\", \"8888 888 888\")\n",
        "scottyDog = Dog3(\"Bruce\", \"Biggs\", \"Scottish Terrier\", owner)\n",
        "print(scottyDog.owner.name)\n",
        "\n",
        "# ¿Qué es self?\n",
        "# En Python, self es un parámetro especial que se refiere a la instancia de la clase (el objeto) con la que estás trabajando.\n",
        "# Cuando defines un método dentro de una clase, el primer parámetro de ese método siempre es self, por convención.\n",
        "# Esto ayuda a Python a saber que el método pertenece a una instancia de la clase.\n",
        "\n",
        "# Piensa en self como una forma de referirse a \"este objeto\" — el objeto específico que está llamando al método.\n",
        "# Le da a cada objeto su propio conjunto de atributos y permite el acceso a métodos que le pertenecen.\n",
        "\n",
        "# ¿Por qué necesitamos self?\n",
        "# Sin self, Python no sabría a qué objeto te estás refiriendo cuando usas atributos o métodos dentro de una clase.\n",
        "# self asegura que cada objeto pueda mantener sus propios datos por separado y te da una forma de trabajar con los atributos y métodos de un objeto.\n"
      ],
      "metadata": {
        "id": "ha8w03FzfyoZ",
        "colab": {
          "base_uri": "https://localhost:8080/"
        },
        "outputId": "7ce801e3-3506-49fd-a081-4d89d8215871"
      },
      "execution_count": null,
      "outputs": [
        {
          "output_type": "stream",
          "name": "stdout",
          "text": [
            "Danny\n"
          ]
        }
      ]
    }
  ]
}