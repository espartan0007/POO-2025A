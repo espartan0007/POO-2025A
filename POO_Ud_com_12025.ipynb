{
  "nbformat": 4,
  "nbformat_minor": 0,
  "metadata": {
    "colab": {
      "provenance": [],
      "authorship_tag": "ABX9TyNXlEAm6YZpo8OVKgWT9KT2",
      "include_colab_link": true
    },
    "kernelspec": {
      "name": "python3",
      "display_name": "Python 3"
    },
    "language_info": {
      "name": "python"
    }
  },
  "cells": [
    {
      "cell_type": "markdown",
      "metadata": {
        "id": "view-in-github",
        "colab_type": "text"
      },
      "source": [
        "<a href=\"https://colab.research.google.com/github/espartan0007/POO-2025A/blob/main/POO_Ud_com_12025.ipynb\" target=\"_parent\"><img src=\"https://colab.research.google.com/assets/colab-badge.svg\" alt=\"Open In Colab\"/></a>"
      ]
    },
    {
      "cell_type": "code",
      "source": [
        "# Accediendo y configurando datos en clases\n",
        "# Supongamos que tenemos una clase User que define qué datos debe tener un usuario\n",
        "\n",
        "class User:\n",
        "    def __init__(self, username, email, password):\n",
        "        self.username = username\n",
        "        self.email = email\n",
        "        self.password = password\n",
        "\n",
        "    def sayHiToUser(self, user):\n",
        "        print(\n",
        "            f\"Enviando mensaje a {user.username}: Hola {user.username}, soy {self.username} ;)\"\n",
        "        )\n",
        "#main\n",
        "user1 = User(\"dantheman\", \"dan@gmail.com\", \"123\")\n",
        "user2 = User(\"batman\", \"bat@gmail.com\", \"abc\")\n",
        "user1.sayHiToUser(user2)\n",
        "\n",
        "print(user1.email)\n",
        "\n",
        "user1.email = \"danlook@.com\"  # PROBLEMA: ¡Podemos asignar cualquier cosa al email!\n",
        "\n",
        "print(user1.email)"
      ],
      "metadata": {
        "colab": {
          "base_uri": "https://localhost:8080/"
        },
        "id": "LJzjqQtKwROm",
        "outputId": "bdd09a46-2527-472f-d968-15e49ccc7735"
      },
      "execution_count": null,
      "outputs": [
        {
          "output_type": "stream",
          "name": "stdout",
          "text": [
            "Enviando mensaje a batman: Hola batman, soy dantheman ;)\n",
            "dan@gmail.com\n",
            "danlook.com\n"
          ]
        }
      ]
    },
    {
      "cell_type": "code",
      "execution_count": null,
      "metadata": {
        "id": "Cy1QppRli2-N",
        "colab": {
          "base_uri": "https://localhost:8080/"
        },
        "outputId": "0a5d7d46-5a78-47d2-8401-939ca9a208df"
      },
      "outputs": [
        {
          "output_type": "stream",
          "name": "stdout",
          "text": [
            "dan@gmail.com\n",
            "Acceso al email en 2025-02-14 14:06:26.770250\n",
            "dan@gmail.com\n",
            "Acceso al email en 2025-02-14 14:06:26.771570\n",
            "dan@outlook.com\n"
          ]
        }
      ],
      "source": [
        "# SOLUCIÓN: necesitamos una forma de controlar cómo acceder y configurar datos. Aquí hay dos maneras: una tradicional estilo \"Java\" y otra más moderna estilo \"Python\" (y C#).\n",
        "# 1. La forma tradicional: hacer que los datos sean privados y usar getters y setters:\n",
        "from datetime import datetime\n",
        "\n",
        "class User2:\n",
        "    def __init__(self, username, email, isAdmin=False):\n",
        "        self.username = username\n",
        "        self._email = email\n",
        "        self.isAdmin = isAdmin\n",
        "\n",
        "    # Convención: get + nombre del atributo\n",
        "    def getEmail(self):\n",
        "        # Ventaja del getter: si necesitamos hacer cambios en la forma de acceder a los datos, solo lo hacemos aquí, no en todos lados\n",
        "        if self.isAdmin:\n",
        "            print(f\"Acceso al email en {datetime.now()}\")\n",
        "            return self._email\n",
        "        return None  # Retorna explícitamente None para indicar que no hay acceso\n",
        "\n",
        "    # Convención: set + nombre del atributo\n",
        "    def setEmail(self, newEmail):\n",
        "        if \"@\" in newEmail:\n",
        "            self._email = newEmail\n",
        "#MAIN\n",
        "\n",
        "user1 = User2(\"dantheman\", \"dan@gmail.com\", True)\n",
        "print(user1._email)  # ¡TRAVIESO! Como desarrolladores responsables en Python, deberíamos hacer esto:\n",
        "print(user1.getEmail())  # Acceso controlado\n",
        "\n",
        "user1.setEmail(\"dan@outlook.com\")\n",
        "print(user1.getEmail())\n"
      ]
    },
    {
      "cell_type": "code",
      "source": [
        "\n",
        "# Enfoque de Python sobre modificadores de acceso\n",
        "# A diferencia de lenguajes como Java o C++, que imponen un control estricto de acceso (como private o protected), Python tiene un enfoque más relajado. En Python:\n",
        "\n",
        "# Un guion bajo (_) antes de un nombre (por ejemplo, _atributo) es una convención que indica que algo está destinado al uso interno de la clase o módulo.\n",
        "# Esto significa que no forma parte de la API pública y el código externo no debería acceder directamente a él.\n",
        "# Sin embargo, Python no impide este acceso. El atributo o método sigue siendo accesible desde fuera de la clase,\n",
        "# pero se les señala a los desarrolladores que está pensado como \"protegido\" o \"interno\".\n",
        "\n",
        "# La filosofía de \"Adultos con Sentido Común\"\n",
        "# La filosofía de Guido van Rossum de \"adultos con sentido común\" enfatiza la confianza en los desarrolladores en lugar de reglas estrictas. Esta filosofía sugiere que:\n",
        "\n",
        "# Se confía en que los desarrolladores respeten la convención de no acceder a los atributos o métodos con guion bajo.\n",
        "# No se previene el acceso, ya que Python asume que los desarrolladores actuarán responsablemente y no accederán ni usarán\n",
        "# miembros \"protegidos\" a menos que sea absolutamente necesario.\n",
        "\n",
        "# 2. Usando propiedades\n",
        "# Este es el enfoque recomendado en Python. Veamos por qué...\n",
        "\n",
        "class User3:\n",
        "    def __init__(self, username, email, isAdmin=False):\n",
        "        self.username = username\n",
        "        self.email = email  # Esto llama al setter property\n",
        "        self.isAdmin = isAdmin\n",
        "\n",
        "    # Propiedad getter\n",
        "    @property\n",
        "    def email(self):\n",
        "        if self.isAdmin:\n",
        "            return self._email\n",
        "        print(\"No es admin, así que no puede acceder al email\")\n",
        "\n",
        "    @email.setter\n",
        "    def email(self, newEmail):\n",
        "        if \"@\" in newEmail:\n",
        "            self._email = newEmail\n",
        "        else:\n",
        "            raise ValueError(\"Email inválido: falta '@'\")\n",
        "\n",
        "#main\n",
        "user1 = User3(\"dantheman\", \"dan@gmail.com\")\n",
        "print(user1.email)\n",
        "try:\n",
        "  user1.email = \"dayyn@gmail.com\"\n",
        "except ValueError as e:\n",
        "    print(f\"Error: {e}\")\n",
        "\n",
        "print(user1.email)\n"
      ],
      "metadata": {
        "colab": {
          "base_uri": "https://localhost:8080/"
        },
        "id": "iGg9vp8oxv87",
        "outputId": "799c2785-39bd-4ca9-c345-087b12dd6127"
      },
      "execution_count": null,
      "outputs": [
        {
          "output_type": "stream",
          "name": "stdout",
          "text": [
            "No es admin, así que no puede acceder al email\n",
            "None\n",
            "No es admin, así que no puede acceder al email\n",
            "None\n"
          ]
        }
      ]
    },
    {
      "cell_type": "code",
      "source": [
        "# Atributos públicos vs protegidos vs privados (y métodos)\n",
        "# Atributos y métodos estáticos\n",
        "# Supongamos que queremos llevar la cuenta del número total de objetos User que se han creado. Para hacerlo, podemos crear un atributo \"estático\" en la clase User:\n",
        "class User4:\n",
        "    total_users_created = (\n",
        "        0  # Creamos un atributo estático llamado total_users y lo inicializamos en 0\n",
        "    )\n",
        "    def __init__(self, username, email, isAdmin=False):\n",
        "        self.username = username\n",
        "        self.email = email\n",
        "        self.isAdmin = isAdmin\n",
        "        # Cada vez que se crea un nuevo usuario, incrementamos el valor\n",
        "        User4.total_users_created += 1\n",
        "\n",
        "    @property\n",
        "    def email(self):\n",
        "        if self.isAdmin:\n",
        "            return self._email\n",
        "        print(\"No es admin, así que no puede acceder al email\")\n",
        "\n",
        "    @email.setter\n",
        "    def email(self, newEmail):\n",
        "        if \"@\" in newEmail:\n",
        "            self._email = newEmail\n",
        "        else:\n",
        "            raise ValueError(\"Email inválido: falta '@'\")\n",
        "#main\n",
        "print(User4.total_users_created)\n",
        "\n",
        "user = User4(\"dantheman\", \"dan@gmail.com\", True)\n",
        "print(User4.total_users_created)\n",
        "print(user.)\n",
        "user2 = User4(\"joetheman\", \"joe@gmail.com\", False)\n",
        "print(User4.total_users_created)\n",
        "\n",
        "\n",
        "print(User4.total_users_created)\n",
        "\n",
        "user.email=\"kokoko@dasdad\" # asignacion directa gracias a property\n",
        "\n",
        "print(user.email)\n",
        "print(user2.email)\n"
      ],
      "metadata": {
        "colab": {
          "base_uri": "https://localhost:8080/"
        },
        "id": "xlU1hzuEyN97",
        "outputId": "14dc3c05-b93c-4fb3-eaac-bd84c603aab0"
      },
      "execution_count": null,
      "outputs": [
        {
          "output_type": "stream",
          "name": "stdout",
          "text": [
            "0\n",
            "1\n",
            "2\n",
            "3\n"
          ]
        }
      ]
    },
    {
      "cell_type": "code",
      "source": [
        "#user.email(\"alan@gmail.com\")\n",
        "user.email=\"kokoko@dasdad\"\n",
        "#user4.email(\"@\")"
      ],
      "metadata": {
        "id": "nM7dzee_biKU"
      },
      "execution_count": null,
      "outputs": []
    },
    {
      "cell_type": "code",
      "source": [
        "print(user.email)\n",
        "print(user2.email)\n",
        "print(user4.email)"
      ],
      "metadata": {
        "colab": {
          "base_uri": "https://localhost:8080/"
        },
        "id": "X36L4EQhar3E",
        "outputId": "67c28b40-ddbf-4721-bc3b-d8cad5456fa6"
      },
      "execution_count": null,
      "outputs": [
        {
          "output_type": "stream",
          "name": "stdout",
          "text": [
            "kokoko@dasdad\n",
            "No es admin, así que no puede acceder al email\n",
            "None\n",
            "No es admin, así que no puede acceder al email\n",
            "None\n"
          ]
        }
      ]
    },
    {
      "cell_type": "code",
      "source": [
        "class Circulo:\n",
        "    def __init__(self, radio):\n",
        "        self._radio = radio  # Atributo privado\n",
        "\n",
        "    @property\n",
        "    def radio(self):\n",
        "        \"\"\"Getter del radio\"\"\"\n",
        "        return self._radio\n",
        "\n",
        "    @radio.setter\n",
        "    def radio(self, valor):\n",
        "        \"\"\"Setter del radio con validación\"\"\"\n",
        "        if valor < 0:\n",
        "            raise ValueError(\"El radio no puede ser negativo\")\n",
        "        self._radio = valor\n",
        "\n",
        "    @property\n",
        "    def area(self):\n",
        "        \"\"\"Propiedad de solo lectura\"\"\"\n",
        "        import math\n",
        "        return math.pi * self._radio ** 2\n",
        "\n",
        "# Uso\n",
        "c = Circulo(5)\n",
        "print(c.radio)  # Accede como si fuera un atributo\n",
        "c.radio = 10  # Modifica el radio con validación\n",
        "print(c.radio)\n",
        "print(c.area)  # Se calcula al momento, sin necesidad de almacenarlo\n",
        "\n",
        "# c.area = 50  # Esto generaría un error, porque `area` no tiene un setter\n"
      ],
      "metadata": {
        "colab": {
          "base_uri": "https://localhost:8080/"
        },
        "id": "lDaVWGoAe084",
        "outputId": "eca23a34-54f0-4ad0-f4a8-1640a3bf8230"
      },
      "execution_count": null,
      "outputs": [
        {
          "output_type": "stream",
          "name": "stdout",
          "text": [
            "5\n",
            "10\n",
            "314.1592653589793\n"
          ]
        }
      ]
    },
    {
      "cell_type": "code",
      "source": [
        "class BankAccount:\n",
        "    MIN_BALANCE = 100  # Atributo de clase/estático, requisito de saldo mínimo\n",
        "\n",
        "    def __init__(self, owner, balance=0):\n",
        "        self.owner = owner  # Atributo de instancia\n",
        "        self.balance = balance  # Atributo de instancia\n",
        "\n",
        "    # Método de instancia\n",
        "    def deposit(self, amount):\n",
        "        \"\"\"Añadir una cantidad al saldo de la cuenta.\"\"\"\n",
        "        if amount > 0:\n",
        "            self.balance += amount\n",
        "            print(f\"Nuevo saldo de {self.owner}: ${self.balance}\")\n",
        "        else:\n",
        "            print(\"La cantidad a depositar debe ser positiva.\")\n",
        "\n",
        "    # Método estático\n",
        "    @staticmethod\n",
        "    def is_valid_interest_rate(rate):\n",
        "        \"\"\"Verificar si la tasa de interés está dentro de un rango válido (0 a 5%).\"\"\"\n",
        "        return 0 <= rate <= 5\n",
        "\n",
        "\n",
        "# Ejemplo de uso\n",
        "account = BankAccount(\"Alice\", 500)\n",
        "\n",
        "# Uso del método de instancia\n",
        "account.deposit(200)  # Salida: Nuevo saldo de Alice: $700\n",
        "\n",
        "# Uso del método estático\n",
        "print(BankAccount.is_valid_interest_rate(3))  # Salida: True\n",
        "print(BankAccount.is_valid_interest_rate(10))  # Salida: False\n",
        "\n",
        "\n",
        "# Ejemplo:\n",
        "class Person:\n",
        "    def __init__(self, name, email, address) -> None:\n",
        "        self.name = name  # Atributo público\n",
        "        self._email = email  # Atributo protegido\n",
        "        self.__home_address = address  # Atributo privado\n",
        "\n",
        "    def print_details(self):\n",
        "        print(\n",
        "            f\"Nombre: {self.name}; Email: {self._email}; Dirección: {self.__home_address}\"\n",
        "        )\n",
        "\n",
        "\n",
        "person = Person(\"danny\", \"danny@gmail.com\", \"200 Springfield way, UK\")\n",
        "person.print_details()  # Salida: Nombre: danny; Email: danny@gmail.com; Dirección: 200 Springfield way, UK"
      ],
      "metadata": {
        "colab": {
          "base_uri": "https://localhost:8080/"
        },
        "id": "AlJ5F2V_haHq",
        "outputId": "afb52f43-8ee2-4537-8e43-71a8ab857dc8"
      },
      "execution_count": null,
      "outputs": [
        {
          "output_type": "stream",
          "name": "stdout",
          "text": [
            "Nuevo saldo de Alice: $700\n",
            "True\n",
            "False\n",
            "Nombre: danny; Email: danny@gmail.com; Dirección: 200 Springfield way, UK\n"
          ]
        }
      ]
    },
    {
      "cell_type": "code",
      "source": [
        "print(person.name)  # danny\n",
        "print(person._email)  # danny@gmail.com (but we are not supposed to do this!)\n",
        "#print(person.__home_address)  # AttributeError: 'Person' object has no attribute '__home_address'"
      ],
      "metadata": {
        "colab": {
          "base_uri": "https://localhost:8080/"
        },
        "id": "7NQXWJNGhoiA",
        "outputId": "e202ff11-754a-4481-ebee-87a454cf5f04"
      },
      "execution_count": null,
      "outputs": [
        {
          "output_type": "stream",
          "name": "stdout",
          "text": [
            "danny\n",
            "danny@gmail.com\n"
          ]
        }
      ]
    }
  ]
}