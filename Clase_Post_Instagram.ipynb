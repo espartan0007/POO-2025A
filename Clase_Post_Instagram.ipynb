{
  "nbformat": 4,
  "nbformat_minor": 0,
  "metadata": {
    "colab": {
      "provenance": [],
      "authorship_tag": "ABX9TyMQh0nEzDPJIcvPrDjaYlff",
      "include_colab_link": true
    },
    "kernelspec": {
      "name": "python3",
      "display_name": "Python 3"
    },
    "language_info": {
      "name": "python"
    }
  },
  "cells": [
    {
      "cell_type": "markdown",
      "metadata": {
        "id": "view-in-github",
        "colab_type": "text"
      },
      "source": [
        "<a href=\"https://colab.research.google.com/github/espartan0007/POO-2025A/blob/main/Clase_Post_Instagram.ipynb\" target=\"_parent\"><img src=\"https://colab.research.google.com/assets/colab-badge.svg\" alt=\"Open In Colab\"/></a>"
      ]
    },
    {
      "cell_type": "code",
      "execution_count": null,
      "metadata": {
        "id": "PX0d2GnyyJ8w"
      },
      "outputs": [],
      "source": [
        "class Post():\n",
        "    def __init__(self, title, date,keywords,location):\n",
        "        self.title = title\n",
        "        self.img = img\n",
        "        self.date =date\n",
        "        self.keywords = keywords\n",
        "        self.location=location\n",
        "\n",
        "\n",
        "\n",
        "#\n",
        "class User(Post):\n",
        "    likes = 0\n",
        "    dislikes = 0\n",
        "\n",
        "    def __init__(self, name, email):\n",
        "      self.name = name\n",
        "      self.email = email\n",
        "      def like(self):\n",
        "          self.likes += 1\n",
        "\n",
        "      def dislike(self):\n",
        "          self.dislikes += 1\n",
        "#main\n",
        "\n",
        "\n"
      ]
    },
    {
      "cell_type": "code",
      "source": [
        "class Post():\n",
        "    def __init__(self, title, body):\n",
        "        self.title = title\n",
        "        self.data = body\n",
        "        self.likes = 0\n",
        "        self.dislikes = 0\n",
        "\n",
        "    def like(self):\n",
        "        self.likes += 1\n",
        "\n",
        "    def dislike(self):\n",
        "        self.dislikes += 1"
      ],
      "metadata": {
        "id": "gryjddToyxf_"
      },
      "execution_count": null,
      "outputs": []
    }
  ]
}