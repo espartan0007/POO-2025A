{
  "nbformat": 4,
  "nbformat_minor": 0,
  "metadata": {
    "colab": {
      "provenance": [],
      "include_colab_link": true
    },
    "kernelspec": {
      "name": "python3",
      "display_name": "Python 3"
    },
    "language_info": {
      "name": "python"
    }
  },
  "cells": [
    {
      "cell_type": "markdown",
      "metadata": {
        "id": "view-in-github",
        "colab_type": "text"
      },
      "source": [
        "<a href=\"https://colab.research.google.com/github/espartan0007/POO-2025A/blob/main/3_horas_de_python_3_x_.ipynb\" target=\"_parent\"><img src=\"https://colab.research.google.com/assets/colab-badge.svg\" alt=\"Open In Colab\"/></a>"
      ]
    },
    {
      "cell_type": "markdown",
      "source": [
        "## Titulo\n",
        " **teexto en negritas**\n",
        "\n",
        " *texto en cursiva*\n",
        "\n",
        " Este es MARKDOWN\n",
        "\n"
      ],
      "metadata": {
        "id": "JZJSvkRCgBfH"
      }
    },
    {
      "cell_type": "code",
      "execution_count": null,
      "metadata": {
        "colab": {
          "base_uri": "https://localhost:8080/"
        },
        "id": "_pcisTzHeQ-m",
        "outputId": "b0080a3d-0b97-4d00-a430-b78a73886426"
      },
      "outputs": [
        {
          "output_type": "stream",
          "name": "stdout",
          "text": [
            "info  1  mas texto \n",
            "<class 'str'>\n"
          ]
        }
      ],
      "source": [
        "# Comentario\n",
        "\n",
        "name= \"Alan de la Torre\"\n",
        "#x=1\n",
        "#pi=3.1416\n",
        "\n",
        "print(\"info \",x,\" mas texto \",)\n",
        "print( type(name) )"
      ]
    },
    {
      "cell_type": "code",
      "source": [
        "# Casting  o conversion de tipos\n",
        "q=1\n",
        "w=int(q)\n",
        "#w=float(q)\n",
        "#w=str(q)\n",
        "#w=bool(q)\n",
        "print(type(w))"
      ],
      "metadata": {
        "colab": {
          "base_uri": "https://localhost:8080/"
        },
        "id": "YfcTcdNFi0t-",
        "outputId": "7bb0b511-2ed9-46db-df9f-b31b47311c6e"
      },
      "execution_count": null,
      "outputs": [
        {
          "output_type": "stream",
          "name": "stdout",
          "text": [
            "<class 'int'>\n"
          ]
        }
      ]
    },
    {
      "cell_type": "code",
      "source": [
        "q=input(\" Escribe tu nombre \")\n",
        "print (\"Tu eres \",q)"
      ],
      "metadata": {
        "id": "hdPnuNWBjYC1"
      },
      "execution_count": null,
      "outputs": []
    },
    {
      "cell_type": "code",
      "source": [
        "q=input(\" Escribe tu nombre \")\n",
        "e=int (input(\" Escribe tu edad \") ) # Casting a entero\n",
        "p=float (input(\" Escribe tu altura \") ) #Casting a Float\n",
        "print (\"Tu eres \",q, \"Tu edad \",e,\" Tu altura es\",p,\" mts. Y esto es una suma\",e+p,\"😁\")"
      ],
      "metadata": {
        "colab": {
          "base_uri": "https://localhost:8080/"
        },
        "id": "_8mK0Rp6k9vo",
        "outputId": "4925591c-2feb-48c6-deb6-1a54138a18eb"
      },
      "execution_count": null,
      "outputs": [
        {
          "output_type": "stream",
          "name": "stdout",
          "text": [
            " Escribe tu nombre art\n",
            " Escribe tu edad 99\n",
            " Escribe tu altura 1.85\n",
            "Tu eres  art Tu edad  99 Tu altura es 1.85 Y esto es una suma 100.85 😁\n"
          ]
        }
      ]
    },
    {
      "cell_type": "code",
      "source": [
        "q=input(\" Escribe tu calificacion de programacion orientada a objetos 2025A  \")\n",
        "w=float(q)\n",
        "print (\"Tu calificaciones es  \",w+10)"
      ],
      "metadata": {
        "colab": {
          "base_uri": "https://localhost:8080/"
        },
        "id": "PK8-OEm5j7mx",
        "outputId": "3f44b401-73c7-43bc-ebc5-f16ce77e2a11"
      },
      "execution_count": null,
      "outputs": [
        {
          "output_type": "stream",
          "name": "stdout",
          "text": [
            " Escribe tu calificacion de programacion orientada a objetos 2024 b 80\n",
            "Tu calificaciones es   90.0\n"
          ]
        }
      ]
    },
    {
      "cell_type": "code",
      "source": [
        "#Operadores Matemáticos\n",
        "# + - * / // ** % abs()\n",
        "x=-2.23\n",
        "print(x+1)\n",
        "print(x-2)\n",
        "print(x*2)\n",
        "print(x**2)\n",
        "print(x//2)\n",
        "print(abs(x) )\n",
        "print(x/2)\n",
        "print(x%2)\n"
      ],
      "metadata": {
        "colab": {
          "base_uri": "https://localhost:8080/",
          "height": 315
        },
        "id": "KaVCGA46kte_",
        "outputId": "440e9bff-85e3-4ece-af93-d35f5c04adae"
      },
      "execution_count": null,
      "outputs": [
        {
          "output_type": "stream",
          "name": "stdout",
          "text": [
            "-1.23\n",
            "-4.23\n",
            "-4.46\n",
            "4.9729\n",
            "-2.0\n",
            "2.23\n",
            "-1.115\n",
            "1.77\n"
          ]
        },
        {
          "output_type": "error",
          "ename": "NameError",
          "evalue": "name 'mod' is not defined",
          "traceback": [
            "\u001b[0;31m---------------------------------------------------------------------------\u001b[0m",
            "\u001b[0;31mNameError\u001b[0m                                 Traceback (most recent call last)",
            "\u001b[0;32m<ipython-input-12-ee96338dc2c5>\u001b[0m in \u001b[0;36m<cell line: 0>\u001b[0;34m()\u001b[0m\n\u001b[1;32m     10\u001b[0m \u001b[0mprint\u001b[0m\u001b[0;34m(\u001b[0m\u001b[0mx\u001b[0m\u001b[0;34m/\u001b[0m\u001b[0;36m2\u001b[0m\u001b[0;34m)\u001b[0m\u001b[0;34m\u001b[0m\u001b[0;34m\u001b[0m\u001b[0m\n\u001b[1;32m     11\u001b[0m \u001b[0mprint\u001b[0m\u001b[0;34m(\u001b[0m\u001b[0mx\u001b[0m\u001b[0;34m%\u001b[0m\u001b[0;36m2\u001b[0m\u001b[0;34m)\u001b[0m\u001b[0;34m\u001b[0m\u001b[0;34m\u001b[0m\u001b[0m\n\u001b[0;32m---> 12\u001b[0;31m \u001b[0mprint\u001b[0m\u001b[0;34m(\u001b[0m\u001b[0mmod\u001b[0m\u001b[0;34m(\u001b[0m\u001b[0;36m2\u001b[0m\u001b[0;34m,\u001b[0m\u001b[0;36m5\u001b[0m\u001b[0;34m)\u001b[0m\u001b[0;34m)\u001b[0m\u001b[0;34m\u001b[0m\u001b[0;34m\u001b[0m\u001b[0m\n\u001b[0m",
            "\u001b[0;31mNameError\u001b[0m: name 'mod' is not defined"
          ]
        }
      ]
    },
    {
      "cell_type": "code",
      "source": [
        "import math as mt\n",
        "\n",
        "q=mt.sqrt(2)\n",
        "print(q)"
      ],
      "metadata": {
        "colab": {
          "base_uri": "https://localhost:8080/"
        },
        "id": "uqqwMC-tma04",
        "outputId": "2707e320-38f5-49d2-bc49-f97d7e1407a1"
      },
      "execution_count": null,
      "outputs": [
        {
          "output_type": "stream",
          "name": "stdout",
          "text": [
            "1.4142135623730951\n"
          ]
        }
      ]
    },
    {
      "cell_type": "code",
      "source": [
        "from math import sqrt\n",
        "q=sqrt(2)\n",
        "print(q)"
      ],
      "metadata": {
        "id": "A1vXL8PyoaIz"
      },
      "execution_count": null,
      "outputs": []
    },
    {
      "cell_type": "code",
      "source": [
        "from math import sqrt\n",
        "q=sqrt(2)\n",
        "print(q)"
      ],
      "metadata": {
        "colab": {
          "base_uri": "https://localhost:8080/"
        },
        "id": "-0d85Om-ndLP",
        "outputId": "214ca744-dfd6-4e48-b72c-4e61d9db4fe5"
      },
      "execution_count": null,
      "outputs": [
        {
          "output_type": "stream",
          "name": "stdout",
          "text": [
            "1.4142135623730951\n"
          ]
        }
      ]
    },
    {
      "cell_type": "code",
      "source": [
        "# if else elif  match\n",
        "# and\n",
        "# or\n",
        "# not()\n",
        "\n",
        "q= -0.1\n",
        "\n",
        "if q >0 and q !=0:       # and or not() logic operators\n",
        "  print(\"q es mayo que 1\")\n",
        "  print(\"OK\")\n",
        "else:\n",
        "  print(\"no es mayor que 1 q \")"
      ],
      "metadata": {
        "colab": {
          "base_uri": "https://localhost:8080/"
        },
        "id": "eaYeB56Vnz5g",
        "outputId": "438a2242-b7c4-4456-873e-b21aa81f3c3f"
      },
      "execution_count": null,
      "outputs": [
        {
          "output_type": "stream",
          "name": "stdout",
          "text": [
            "no es mayor que 1 q \n"
          ]
        }
      ]
    },
    {
      "cell_type": "code",
      "source": [
        "a=1\n",
        "#!=\n",
        "if a != 0 :\n",
        "  print(\"Si funciona\")\n",
        "  print(\" a es diferente de 0 \")\n",
        "else:\n",
        "  print(\"no se nada\")\n",
        "\n"
      ],
      "metadata": {
        "colab": {
          "base_uri": "https://localhost:8080/"
        },
        "id": "I8CZJbj-pcNe",
        "outputId": "0b213289-1430-4d01-beff-6f43737b965e"
      },
      "execution_count": null,
      "outputs": [
        {
          "output_type": "stream",
          "name": "stdout",
          "text": [
            "Si funciona\n",
            " a es diferente de 0 \n"
          ]
        }
      ]
    },
    {
      "cell_type": "code",
      "source": [
        "# if else elif  match\n",
        "q= -0.1\n",
        "w= 1\n",
        "if q >0 and q !=0 : # and or not() logic operators\n",
        "  print(\"q es mayor que 1 y diferente de 0\")\n",
        "elif w ==1:\n",
        "  print(\"q es 1\")\n",
        "else:\n",
        "  print(\"no es mayor que 1 o 0 \")"
      ],
      "metadata": {
        "colab": {
          "base_uri": "https://localhost:8080/"
        },
        "id": "w32w0TAYqZdi",
        "outputId": "07f22c6a-ee3c-4a19-ecd8-d31642c8c2b0"
      },
      "execution_count": null,
      "outputs": [
        {
          "output_type": "stream",
          "name": "stdout",
          "text": [
            "q es 1\n"
          ]
        }
      ]
    },
    {
      "cell_type": "code",
      "source": [
        "error = input(\"Introduzca un código de error: \")\n",
        "match error:\n",
        "    case \"200\":\n",
        "        print(\"Todo ok.\")\n",
        "    case \"301\":\n",
        "        print(\"Movimiento permanente de la página.\")\n",
        "    case _:\n",
        "        print(\"Error no disponible.\")"
      ],
      "metadata": {
        "id": "a1sMVKrxrEY_"
      },
      "execution_count": null,
      "outputs": []
    },
    {
      "cell_type": "code",
      "source": [
        "# while\n",
        "ac=1 # Contador , Acumulador y Bandera\n",
        "while ac<4 :\n",
        "  #print(\"hola \",ac)\n",
        "  print(\"Hola\")\n",
        "  print(ac)\n",
        "  ac+=1 # ac++"
      ],
      "metadata": {
        "colab": {
          "base_uri": "https://localhost:8080/"
        },
        "id": "BUcDiGwBrQ9U",
        "outputId": "8d724b52-e1d9-4c08-c6d3-8af14512729f"
      },
      "execution_count": null,
      "outputs": [
        {
          "output_type": "stream",
          "name": "stdout",
          "text": [
            "Hola\n",
            "1\n",
            "Hola\n",
            "2\n",
            "Hola\n",
            "3\n"
          ]
        }
      ]
    },
    {
      "cell_type": "code",
      "source": [
        "li=[1,9,8,3,3.1416,True]\n",
        "\n",
        "#print(li[5])\n",
        "\n",
        "a=0  #acumulador\n",
        "\n",
        "for c in li:\n",
        "  print(c)\n",
        "  a=a+c\n",
        "\n",
        "print(a)\n",
        "\n",
        "\n"
      ],
      "metadata": {
        "colab": {
          "base_uri": "https://localhost:8080/"
        },
        "id": "rCJNIrwErWdY",
        "outputId": "1adddc20-ba32-4371-a132-cf5a8eb5d4f0"
      },
      "execution_count": 7,
      "outputs": [
        {
          "output_type": "stream",
          "name": "stdout",
          "text": [
            "1\n",
            "9\n",
            "8\n",
            "3\n",
            "3.1416\n",
            "True\n",
            "25.1416\n"
          ]
        }
      ]
    },
    {
      "cell_type": "code",
      "source": [
        "li=[]\n",
        "print(li)\n",
        "\n",
        "for _ in range(5):\n",
        "  q=input(\"Escribe algo \")\n",
        "  li.append(q)\n",
        "\n",
        "print(li)"
      ],
      "metadata": {
        "id": "CYZi-6CNjOXA",
        "outputId": "00ffae27-05a6-4809-a196-0dfa52dfbd25",
        "colab": {
          "base_uri": "https://localhost:8080/"
        }
      },
      "execution_count": 11,
      "outputs": [
        {
          "output_type": "stream",
          "name": "stdout",
          "text": [
            "[]\n",
            "Escribe algo9\n",
            "Escribe algo23\n",
            "Escribe algoArturo\n",
            "Escribe algo78\n",
            "Escribe algo@\n",
            "['9', '23', 'Arturo', '78', '@']\n"
          ]
        }
      ]
    },
    {
      "cell_type": "code",
      "source": [
        "li=\"Todo en orden\"\n",
        "\n",
        "for x in li:\n",
        "  print(x)"
      ],
      "metadata": {
        "colab": {
          "base_uri": "https://localhost:8080/"
        },
        "id": "v011dQ2NrbVS",
        "outputId": "9f60ed8d-5c6d-4a34-e7a6-0da4de2b3b51"
      },
      "execution_count": 8,
      "outputs": [
        {
          "output_type": "stream",
          "name": "stdout",
          "text": [
            "T\n",
            "o\n",
            "d\n",
            "o\n",
            " \n",
            "e\n",
            "n\n",
            " \n",
            "o\n",
            "r\n",
            "d\n",
            "e\n",
            "n\n"
          ]
        }
      ]
    },
    {
      "cell_type": "code",
      "source": [
        "for x in range(2):\n",
        "  print(\"Hola\")"
      ],
      "metadata": {
        "colab": {
          "base_uri": "https://localhost:8080/"
        },
        "id": "UYZPg5MhtF5a",
        "outputId": "cdccd069-4ead-41f3-c288-b0f2af279990"
      },
      "execution_count": 10,
      "outputs": [
        {
          "output_type": "stream",
          "name": "stdout",
          "text": [
            "Hola\n",
            "Hola\n"
          ]
        }
      ]
    },
    {
      "cell_type": "code",
      "source": [
        "#https://www.w3schools.com/python/python_lists_methods.asp\n",
        "# Listas\n",
        "li=[] # Lista Vacia\n",
        "\n",
        "for _ in range(5):\n",
        "  q=input(\"Escribe algo\")\n",
        "  li.append(q)\n",
        "\n",
        "print(li)"
      ],
      "metadata": {
        "id": "fqeCRLc_s8UO"
      },
      "execution_count": null,
      "outputs": []
    },
    {
      "cell_type": "code",
      "source": [
        "# Listas\n",
        "li=[\"Ar \",0,3.1416,2.71,True,0] # Lista\n",
        "\n",
        "for valor in li):\n",
        "  print(valor)"
      ],
      "metadata": {
        "id": "L4CyutFzyX9X"
      },
      "execution_count": null,
      "outputs": []
    },
    {
      "cell_type": "markdown",
      "source": [
        "Diseñar y codificar en python 3.x un algoritmo para detectar si un valor es cero dentro de una lista y contar cuantas ocurrencias hay en esa lista del valor 0."
      ],
      "metadata": {
        "id": "Eo1FSCE3zBK6"
      }
    },
    {
      "cell_type": "code",
      "source": [
        "# Listas\n",
        "li=[\"Ar\",0,3.1416,2.71,True,0] # Lista\n",
        "ac=0\n",
        "for valor in li:\n",
        "  print(valor)\n",
        "  if valor==0:\n",
        "    ac+=1\n",
        "print(\"Los ceros encontrados son\",ac)\n"
      ],
      "metadata": {
        "id": "fEK7yvGg19be"
      },
      "execution_count": null,
      "outputs": []
    },
    {
      "cell_type": "markdown",
      "source": [
        "Diseñar y codificar en python 3.x un algoritmo para detectar si un valor es cero dentro de una lista y detener la iteración sobre esa lista(Pista Comando BREAK).\n"
      ],
      "metadata": {
        "id": "XK4E-Me7yp5o"
      }
    },
    {
      "cell_type": "code",
      "source": [
        "# Listas\n",
        "li=[\"Art\",3.1416,2.71,True,0] # Lista\n",
        "for valor in li:\n",
        "  if valor==0:\n",
        "    print(\"Se encontro un cero y se rompera este ciclo FOR. \\n\\n AUTO DESTRUCCION DEL ARDUINO !!!!!!\")\n",
        "    break\n",
        "  else:\n",
        "    print(\"Valor de la lista\",valor)\n",
        "print(\"Los ceros encontrados son\",ac)"
      ],
      "metadata": {
        "colab": {
          "base_uri": "https://localhost:8080/"
        },
        "id": "daW7ZsEN3Pd2",
        "outputId": "41de9bf4-de8b-43cc-d729-f0e5460ca154"
      },
      "execution_count": null,
      "outputs": [
        {
          "output_type": "stream",
          "name": "stdout",
          "text": [
            "Valor de la lista Arturo Valdivia\n",
            "Valor de la lista 3.1416\n",
            "Valor de la lista 2.71\n",
            "Valor de la lista True\n",
            "Se encontro un cero y se rompera este ciclo FOR. \n",
            " AUTO DESTRUCCION DEL ARDUINO !!!!!!\n",
            "Los ceros encontrados son 0\n"
          ]
        }
      ]
    },
    {
      "cell_type": "code",
      "source": [
        "li=[\"Ar\",3.1416,2.71,True,0] # Lista\n",
        "print(li.count(0) )"
      ],
      "metadata": {
        "colab": {
          "base_uri": "https://localhost:8080/"
        },
        "id": "8QZ9PXXT5PRf",
        "outputId": "7c023625-d261-4418-c4ec-37980b6863ab"
      },
      "execution_count": null,
      "outputs": [
        {
          "output_type": "stream",
          "name": "stdout",
          "text": [
            "1\n"
          ]
        }
      ]
    },
    {
      "cell_type": "code",
      "source": [
        "li=[\"Ar\",3.1416,2.71,True,0] # Lista\n",
        "print(li.index(0))"
      ],
      "metadata": {
        "colab": {
          "base_uri": "https://localhost:8080/"
        },
        "id": "fFUFPrkh5Yru",
        "outputId": "5f18c6d8-2dc5-4370-fbcd-31030172dafb"
      },
      "execution_count": null,
      "outputs": [
        {
          "output_type": "stream",
          "name": "stdout",
          "text": [
            "4\n"
          ]
        }
      ]
    },
    {
      "cell_type": "code",
      "source": [
        "li=[\"Ar\",3.1416,2.71,True,0] # Lista\n",
        "li.insert(5,\"@\")\n",
        "print(li)\n"
      ],
      "metadata": {
        "colab": {
          "base_uri": "https://localhost:8080/"
        },
        "id": "YtjwitTF5gsj",
        "outputId": "8cd10cb7-7f38-43b4-e722-371c158a3aa5"
      },
      "execution_count": null,
      "outputs": [
        {
          "output_type": "stream",
          "name": "stdout",
          "text": [
            "['Arturo Valdivia', 3.1416, 2.71, True, 0, '@']\n",
            "None\n"
          ]
        }
      ]
    },
    {
      "cell_type": "code",
      "source": [
        "li=[\"Ar\",3.1416,2.71,True,0] # Lista\n",
        "#q=li.pop()\n",
        "q=li.pop(0)\n",
        "print(li)\n",
        "print(q)"
      ],
      "metadata": {
        "colab": {
          "base_uri": "https://localhost:8080/"
        },
        "id": "4w9_pfRS6BQf",
        "outputId": "3090e6ba-9583-4733-d722-a0eb25ba5934"
      },
      "execution_count": null,
      "outputs": [
        {
          "output_type": "stream",
          "name": "stdout",
          "text": [
            "[3.1416, 2.71, True, 0]\n",
            "Arturo Valdivia\n"
          ]
        }
      ]
    },
    {
      "cell_type": "code",
      "source": [
        "li=[1,3.1416,2.71,0] # Lista\n",
        "li.sort()\n",
        "print(li)"
      ],
      "metadata": {
        "colab": {
          "base_uri": "https://localhost:8080/"
        },
        "id": "E9_t2nzi6dDo",
        "outputId": "8b23af01-5835-4fd0-83c1-5e4d7f6c00d6"
      },
      "execution_count": null,
      "outputs": [
        {
          "output_type": "stream",
          "name": "stdout",
          "text": [
            "[0, 1, 2.71, 3.1416]\n"
          ]
        }
      ]
    },
    {
      "cell_type": "code",
      "source": [
        "#Prototipo\n",
        "def funcion():\n",
        "  for i in range(4):\n",
        "    print(\"Hola a todos....😎👌\")\n",
        "\n",
        "#------------------Main\n",
        "funcion()"
      ],
      "metadata": {
        "colab": {
          "base_uri": "https://localhost:8080/"
        },
        "id": "dfbzY1_58PZ9",
        "outputId": "db362a11-5c41-4b43-a7d2-5b4aad2f1c25"
      },
      "execution_count": null,
      "outputs": [
        {
          "output_type": "stream",
          "name": "stdout",
          "text": [
            "Hola a todos....😎👌\n",
            "Hola a todos....😎👌\n",
            "Hola a todos....😎👌\n",
            "Hola a todos....😎👌\n"
          ]
        }
      ]
    },
    {
      "cell_type": "code",
      "source": [
        "def funcion(x):\n",
        "  for i in range(x):\n",
        "    print(\"Hola a todos....😎👌\")\n",
        "    return x\n",
        "#------------------Main\n",
        "a=funcion(4)\n",
        "print(a)"
      ],
      "metadata": {
        "colab": {
          "base_uri": "https://localhost:8080/"
        },
        "id": "XJEHmbMD7KIM",
        "outputId": "9538c538-bc9a-4740-923a-a16f0ba56c56"
      },
      "execution_count": null,
      "outputs": [
        {
          "output_type": "stream",
          "name": "stdout",
          "text": [
            "Hola a todos....😎👌\n",
            "4\n"
          ]
        }
      ]
    },
    {
      "cell_type": "code",
      "source": [
        "def arroba(s):\n",
        "  for k in s:\n",
        "    if k ==\"@\":\n",
        "      return True\n",
        "      break\n",
        "  return False\n",
        "\n",
        "#main\n",
        "mail=\"arturo2342@gmail.com\"\n",
        "print(\"El correo tiene arroba:\", arroba(mail))"
      ],
      "metadata": {
        "colab": {
          "base_uri": "https://localhost:8080/"
        },
        "id": "337J0ndd8gXd",
        "outputId": "f8454c70-7722-41e9-b402-984a5245dd63"
      },
      "execution_count": null,
      "outputs": [
        {
          "output_type": "stream",
          "name": "stdout",
          "text": [
            "El correo tiene arroba: True\n"
          ]
        }
      ]
    },
    {
      "cell_type": "code",
      "source": [
        "https://www.w3schools.com/python/python_strings_methods.asp\n"
      ],
      "metadata": {
        "id": "RhWBBX0d-4-G"
      },
      "execution_count": null,
      "outputs": []
    }
  ]
}